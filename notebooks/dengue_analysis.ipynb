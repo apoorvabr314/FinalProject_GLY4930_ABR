import sys
import os
sys.path.append(os.path.abspath(".."))

from src.fetch_sequences import fetch_viral_sequences
from src.run_blast import blast_sequence, parse_blast_result
from src.align_and_tree import write_fasta, run_alignment, build_tree
from src.utils import ensure_dir

from Bio import Entrez

Entrez.email = "apoorva.bangalor@ufl.edu"

ensure_dir("data")
ensure_dir("results")

# Fetching dengue virus sequences & saving to .fatsa
  
  query = "Dengue virus[ORGN]"
  max_records = 5

  sequences = fetch_viral_sequences(query=query, max_records=max_records)

  print(f"✅ Fetched {len(sequences)} sequences.")
  for seq in sequences:
      print(f"{seq.id}: {len(seq.seq)} bp")

  fasta_path = "data/sequences.fasta"
  write_fasta(sequences, fasta_path)
  print(f"🧬 Saved sequences to {fasta_path}")

# Running, and parsing BLAST results

  blast_output_path = "results/blast_result.xml"
  blast_sequence(sequences[0], blast_output_path)
  print(f"🚀 BLAST result saved to {blast_output_path}")

  blast_hits = parse_blast_result(blast_output_path)
  print("📊 Top BLAST Hits:")
  for hit in blast_hits:
      print(hit)

  
# Aligning and building tree

  aln_file, dnd_file = run_alignment(fasta_path)
  print(f"✅ Alignment file: {aln_file}")
  print(f"✅ Tree file: {dnd_file}")
  
  build_tree(dnd_file)
