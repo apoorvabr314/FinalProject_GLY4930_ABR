{
 "cells": [
  {
   "cell_type": "code",
   "execution_count": 1,
   "id": "1af89734-7ca8-4535-9107-1c168004af5a",
   "metadata": {
    "tags": []
   },
   "outputs": [],
   "source": [
    "import sys\n",
    "import os\n",
    "sys.path.append(os.path.abspath(\"..\"))"
   ]
  },
  {
   "cell_type": "code",
   "execution_count": null,
   "id": "0b01f592-f818-4f2a-a6a8-43af09bbfc1e",
   "metadata": {},
   "outputs": [],
   "source": [
    "from src.fetch_sequences import fetch_viral_sequences\n",
    "from src.run_blast import blast_sequence, parse_blast_result\n",
    "from src.align_and_tree import write_fasta, run_alignment, build_tree\n",
    "from src.utils import ensure_dir\n",
    "\n",
    "from Bio import Entrez\n",
    "\n",
    "Entrez.email = \"apoorva.bangalor@ufl.edu\""
   ]
  },
  {
   "cell_type": "code",
   "execution_count": null,
   "id": "1f504d3f-d4fe-4d52-9a49-d887b78dc28e",
   "metadata": {},
   "outputs": [],
   "source": [
    "ensure_dir(\"data\")\n",
    "ensure_dir(\"results\")"
   ]
  },
  {
   "cell_type": "code",
   "execution_count": null,
   "id": "2f8ebd0f-0ba5-4220-b121-79163d1c8d05",
   "metadata": {},
   "outputs": [],
   "source": [
    "# Fetching dengue virus sequences & saving to .fatsa\n",
    "  \n",
    "  query = \"Dengue virus[ORGN]\"\n",
    "  max_records = 5\n",
    "\n",
    "  sequences = fetch_viral_sequences(query=query, max_records=max_records)\n",
    "\n",
    "  print(f\"✅ Fetched {len(sequences)} sequences.\")\n",
    "  for seq in sequences:\n",
    "      print(f\"{seq.id}: {len(seq.seq)} bp\")\n",
    "\n",
    "  fasta_path = \"data/sequences.fasta\"\n",
    "  write_fasta(sequences, fasta_path)\n",
    "  print(f\"🧬 Saved sequences to {fasta_path}\")"
   ]
  },
  {
   "cell_type": "code",
   "execution_count": null,
   "id": "8f624f15-77c6-415a-8885-dbde5dfc1774",
   "metadata": {},
   "outputs": [],
   "source": [
    "# Running, and parsing BLAST results\n",
    "\n",
    "  blast_output_path = \"results/blast_result.xml\"\n",
    "  blast_sequence(sequences[0], blast_output_path)\n",
    "  print(f\"🚀 BLAST result saved to {blast_output_path}\")\n",
    "\n",
    "  blast_hits = parse_blast_result(blast_output_path)\n",
    "  print(\"📊 Top BLAST Hits:\")\n",
    "  for hit in blast_hits:\n",
    "      print(hit)"
   ]
  },
  {
   "cell_type": "code",
   "execution_count": null,
   "id": "d68c017d-2362-43d9-842b-e2146f881700",
   "metadata": {},
   "outputs": [],
   "source": [
    "# Aligning and building tree\n",
    "\n",
    "  aln_file, dnd_file = run_alignment(fasta_path)\n",
    "  print(f\"✅ Alignment file: {aln_file}\")\n",
    "  print(f\"✅ Tree file: {dnd_file}\")\n",
    "  \n",
    "  build_tree(dnd_file)"
   ]
  }
 ],
 "metadata": {
  "kernelspec": {
   "display_name": "Python 3 (ipykernel)",
   "language": "python",
   "name": "python3"
  },
  "language_info": {
   "codemirror_mode": {
    "name": "ipython",
    "version": 3
   },
   "file_extension": ".py",
   "mimetype": "text/x-python",
   "name": "python",
   "nbconvert_exporter": "python",
   "pygments_lexer": "ipython3",
   "version": "3.11.5"
  }
 },
 "nbformat": 4,
 "nbformat_minor": 5
}
